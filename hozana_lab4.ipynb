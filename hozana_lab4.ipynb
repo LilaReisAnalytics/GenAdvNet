{
 "cells": [
  {
   "cell_type": "code",
   "execution_count": 3,
   "metadata": {},
   "outputs": [],
   "source": [
    "# Libraries \n",
    "\n",
    "import tensorflow as tf\n",
    "import numpy as np\n",
    "import matplotlib.pyplot as plt"
   ]
  },
  {
   "cell_type": "markdown",
   "metadata": {},
   "source": [
    "GET THE DATA"
   ]
  },
  {
   "cell_type": "code",
   "execution_count": 2,
   "metadata": {},
   "outputs": [],
   "source": [
    "# Load the fashion_mnist dataset\n",
    "(ds1_images, ds1_labels), (ds2_images, ds2_labels) = tf.keras.datasets.fashion_mnist.load_data()\n",
    "\n",
    "# Create dictionaries to store the datasets\n",
    "ds1_hozana = {'images': ds1_images[:60000], 'labels': ds1_labels[:60000]}\n",
    "ds2_hozana = {'images': ds2_images[:10000], 'labels': ds2_labels[:10000]}\n"
   ]
  },
  {
   "cell_type": "markdown",
   "metadata": {},
   "source": [
    "DATASET PRE-PROCESSING"
   ]
  },
  {
   "cell_type": "code",
   "execution_count": 12,
   "metadata": {},
   "outputs": [
    {
     "name": "stdout",
     "output_type": "stream",
     "text": [
      "Shape of ds1_hozana['images']:  (60000, 28, 28)\n",
      "Shape of ds2_hozana['images']:  (10000, 28, 28)\n"
     ]
    }
   ],
   "source": [
    "#Normalize pixel values to range between -1 and 1\n",
    "ds1_hozana['images'] = (ds1_hozana['images'].astype(np.float32) - 127.5) / 127.5\n",
    "ds2_hozana['images'] = (ds2_hozana['images'].astype(np.float32) - 127.5) / 127.5\n",
    "\n",
    "\n",
    "print(\"Shape of ds1_hozana['images']: \", ds1_hozana['images'].shape)\n",
    "print(\"Shape of ds2_hozana['images']: \", ds2_hozana['images'].shape)"
   ]
  },
  {
   "cell_type": "code",
   "execution_count": 13,
   "metadata": {},
   "outputs": [
    {
     "name": "stdout",
     "output_type": "stream",
     "text": [
      "Shape of dataset_hozana:  (7000, 28, 28)\n"
     ]
    }
   ],
   "source": [
    "# Concatenate images datasets\n",
    "ds1_pants_indices = np.where(ds1_hozana['labels'] == 1)[0]\n",
    "ds2_pants_indices = np.where(ds2_hozana['labels'] == 1)[0]\n",
    "\n",
    "ds1_pants_images = ds1_hozana['images'][ds1_pants_indices]\n",
    "ds2_pants_images = ds2_hozana['images'][ds2_pants_indices]\n",
    "\n",
    "dataset_hozana = np.concatenate([ds1_pants_images, ds2_pants_images])\n",
    "\n",
    "# Step 4: Display shape of the concatenated dataset\n",
    "print(\"Shape of dataset_hozana: \", dataset_hozana.shape)"
   ]
  },
  {
   "cell_type": "code",
   "execution_count": 14,
   "metadata": {},
   "outputs": [
    {
     "data": {
      "image/png": "[encoded data removed]",
      "text/plain": [
       "<Figure size 800x800 with 12 Axes>"
      ]
     },
     "metadata": {},
     "output_type": "display_data"
    }
   ],
   "source": [
    "plt.figure(figsize=(8, 8))\n",
    "for i in range(12):\n",
    "    plt.subplot(4, 3, i+1)\n",
    "    plt.imshow(dataset_hozana[i], cmap='gray')\n",
    "    plt.xticks([])\n",
    "    plt.yticks([])\n",
    "plt.show()"
   ]
  },
  {
   "cell_type": "code",
   "execution_count": 15,
   "metadata": {},
   "outputs": [],
   "source": [
    "# Create training dataset \n",
    "train_dataset_hozana = tf.data.Dataset.from_tensor_slices(dataset_hozana)\n",
    "train_dataset_hozana = train_dataset_hozana.shuffle(buffer_size=dataset_hozana.shape[0]).batch(256)"
   ]
  },
  {
   "cell_type": "markdown",
   "metadata": {},
   "source": [
    "GAN ARCHITECTURE"
   ]
  },
  {
   "cell_type": "code",
   "execution_count": 16,
   "metadata": {},
   "outputs": [
    {
     "name": "stdout",
     "output_type": "stream",
     "text": [
      "WARNING:tensorflow:From c:\\Users\\User\\newConda\\Lib\\site-packages\\keras\\src\\backend.py:873: The name tf.get_default_graph is deprecated. Please use tf.compat.v1.get_default_graph instead.\n",
      "\n",
      "WARNING:tensorflow:From c:\\Users\\User\\newConda\\Lib\\site-packages\\keras\\src\\layers\\normalization\\batch_normalization.py:979: The name tf.nn.fused_batch_norm is deprecated. Please use tf.compat.v1.nn.fused_batch_norm instead.\n",
      "\n",
      "Model: \"sequential\"\n",
      "_________________________________________________________________\n",
      " Layer (type)                Output Shape              Param #   \n",
      "=================================================================\n",
      " dense (Dense)               (None, 12544)             1254400   \n",
      "                                                                 \n",
      " batch_normalization (Batch  (None, 12544)             50176     \n",
      " Normalization)                                                  \n",
      "                                                                 \n",
      " leaky_re_lu (LeakyReLU)     (None, 12544)             0         \n",
      "                                                                 \n",
      " reshape (Reshape)           (None, 7, 7, 256)         0         \n",
      "                                                                 \n",
      " conv2d_transpose (Conv2DTr  (None, 7, 7, 128)         819200    \n",
      " anspose)                                                        \n",
      "                                                                 \n",
      " batch_normalization_1 (Bat  (None, 7, 7, 128)         512       \n",
      " chNormalization)                                                \n",
      "                                                                 \n",
      " leaky_re_lu_1 (LeakyReLU)   (None, 7, 7, 128)         0         \n",
      "                                                                 \n",
      " conv2d_transpose_1 (Conv2D  (None, 14, 14, 64)        204800    \n",
      " Transpose)                                                      \n",
      "                                                                 \n",
      " batch_normalization_2 (Bat  (None, 14, 14, 64)        256       \n",
      " chNormalization)                                                \n",
      "                                                                 \n",
      " leaky_re_lu_2 (LeakyReLU)   (None, 14, 14, 64)        0         \n",
      "                                                                 \n",
      " conv2d_transpose_2 (Conv2D  (None, 28, 28, 1)         1600      \n",
      " Transpose)                                                      \n",
      "                                                                 \n",
      "=================================================================\n",
      "Total params: 2330944 (8.89 MB)\n",
      "Trainable params: 2305472 (8.79 MB)\n",
      "Non-trainable params: 25472 (99.50 KB)\n",
      "_________________________________________________________________\n"
     ]
    }
   ],
   "source": [
    "# Build the Generator Model\n",
    "generator_model_hozana = tf.keras.Sequential([\n",
    "    # Fully connected layer\n",
    "    tf.keras.layers.Dense(7*7*256, use_bias=False, input_shape=(100,)),\n",
    "    # Batch normalization\n",
    "    tf.keras.layers.BatchNormalization(),\n",
    "    # Leaky ReLU activation\n",
    "    tf.keras.layers.LeakyReLU(),\n",
    "    # Reshape to (7, 7, 256)\n",
    "    tf.keras.layers.Reshape((7, 7, 256)),\n",
    "    # Transposed Convolution Layer\n",
    "    tf.keras.layers.Conv2DTranspose(128, (5, 5), strides=(1, 1), padding='same', use_bias=False),\n",
    "    # Batch normalization\n",
    "    tf.keras.layers.BatchNormalization(),\n",
    "    # Leaky ReLU activation\n",
    "    tf.keras.layers.LeakyReLU(),\n",
    "    # Transposed Convolution Layer\n",
    "    tf.keras.layers.Conv2DTranspose(64, (5, 5), strides=(2, 2), padding='same', use_bias=False),\n",
    "    # Batch normalization\n",
    "    tf.keras.layers.BatchNormalization(),\n",
    "    # Leaky ReLU activation\n",
    "    tf.keras.layers.LeakyReLU(),\n",
    "    # Transposed Convolution Layer with tanh activation\n",
    "    tf.keras.layers.Conv2DTranspose(1, (5, 5), strides=(2, 2), padding='same', use_bias=False, activation='tanh')\n",
    "])\n",
    "\n",
    "# Display model summary\n",
    "generator_model_hozana.summary()"
   ]
  },
  {
   "cell_type": "code",
   "execution_count": 17,
   "metadata": {},
   "outputs": [
    {
     "name": "stdout",
     "output_type": "stream",
     "text": [
      "You must install pydot (`pip install pydot`) and install graphviz (see instructions at https://graphviz.gitlab.io/download/) for plot_model to work.\n"
     ]
    }
   ],
   "source": [
    "from tensorflow.keras.utils import plot_model\n",
    "\n",
    "# Generate a diagram illustrating the structure of the neural network model\n",
    "plot_model(generator_model_hozana, to_file='generator_model_diagram.png', show_shapes=True, expand_nested=True)\n"
   ]
  },
  {
   "cell_type": "code",
   "execution_count": null,
   "metadata": {},
   "outputs": [],
   "source": []
  }
 ],
 "metadata": {
  "kernelspec": {
   "display_name": "base",
   "language": "python",
   "name": "python3"
  },
  "language_info": {
   "codemirror_mode": {
    "name": "ipython",
    "version": 3
   },
   "file_extension": ".py",
   "mimetype": "text/x-python",
   "name": "python",
   "nbconvert_exporter": "python",
   "pygments_lexer": "ipython3",
   "version": "3.11.5"
  }
 },
 "nbformat": 4,
 "nbformat_minor": 2
}
